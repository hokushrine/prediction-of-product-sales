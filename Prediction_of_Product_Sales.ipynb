{
  "nbformat": 4,
  "nbformat_minor": 0,
  "metadata": {
    "colab": {
      "provenance": [],
      "authorship_tag": "ABX9TyNurPNXqstjJrEKCY6ExrD1",
      "include_colab_link": true
    },
    "kernelspec": {
      "name": "python3",
      "display_name": "Python 3"
    },
    "language_info": {
      "name": "python"
    }
  },
  "cells": [
    {
      "cell_type": "markdown",
      "metadata": {
        "id": "view-in-github",
        "colab_type": "text"
      },
      "source": [
        "<a href=\"https://colab.research.google.com/github/hokushrine/prediction-of-product-sales/blob/main/Prediction_of_Product_Sales.ipynb\" target=\"_parent\"><img src=\"https://colab.research.google.com/assets/colab-badge.svg\" alt=\"Open In Colab\"/></a>"
      ]
    },
    {
      "cell_type": "markdown",
      "source": [
        "# **Prediction of Product Sales**\n",
        "\n",
        "\n"
      ],
      "metadata": {
        "id": "e-5dBRYzJXUM"
      }
    },
    {
      "cell_type": "markdown",
      "source": [
        "### *Author: Matt S.*"
      ],
      "metadata": {
        "id": "B3cT1AQVg1Ly"
      }
    },
    {
      "cell_type": "markdown",
      "source": [
        "## Project Overview"
      ],
      "metadata": {
        "id": "6J5hiDmrJq4y"
      }
    },
    {
      "cell_type": "markdown",
      "source": [
        "## Load and Inspect Data"
      ],
      "metadata": {
        "id": "SS5uP2CsJtGz"
      }
    },
    {
      "cell_type": "markdown",
      "source": [
        "## Clean Data"
      ],
      "metadata": {
        "id": "4dTlbDj4JvQF"
      }
    },
    {
      "cell_type": "markdown",
      "source": [
        "## Exploratory Data Analysis"
      ],
      "metadata": {
        "id": "WLSd_VeDHbOi"
      }
    },
    {
      "cell_type": "markdown",
      "source": [
        "## Explanatory Data Analysis"
      ],
      "metadata": {
        "id": "rlt3im7xHdOo"
      }
    }
  ]
}